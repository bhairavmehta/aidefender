{
 "cells": [
  {
   "cell_type": "code",
   "execution_count": 1,
   "id": "bronze-projection",
   "metadata": {},
   "outputs": [],
   "source": [
    "import os\n",
    "import tempfile\n",
    "\n",
    "from sklearn.metrics import accuracy_score\n",
    "from PIL import Image\n",
    "\n",
    "\n",
    "from aidefender.utils.mlflow import load_model, create_art_model, save_art_model\n",
    "from aidefender.robustness import robustness_accuracy\n",
    "from aidefender.defences.bart import BaRT\n",
    "from aidefender.exp.datasets import create_dataset"
   ]
  },
  {
   "cell_type": "markdown",
   "id": "accurate-couple",
   "metadata": {},
   "source": [
    "# Declare constants"
   ]
  },
  {
   "cell_type": "code",
   "execution_count": null,
   "id": "beneficial-control",
   "metadata": {},
   "outputs": [],
   "source": [
    "dataset_class = 'aidefender.exp.datasets.RP2KDataset'\n",
    "data_path = '../artifacts/data/RP2K_small/'\n",
    "model_path = '../artifacts/models/mlflow_RP2K_pytorch/'"
   ]
  },
  {
   "cell_type": "markdown",
   "id": "clinical-picnic",
   "metadata": {},
   "source": [
    "# Load data"
   ]
  },
  {
   "cell_type": "code",
   "execution_count": null,
   "id": "starting-anxiety",
   "metadata": {},
   "outputs": [],
   "source": [
    "dataset = create_dataset(dataset_class, data_path)"
   ]
  },
  {
   "cell_type": "code",
   "execution_count": null,
   "id": "improved-conducting",
   "metadata": {},
   "outputs": [],
   "source": [
    "dataset.images.shape"
   ]
  },
  {
   "cell_type": "code",
   "execution_count": null,
   "id": "attractive-mobility",
   "metadata": {},
   "outputs": [],
   "source": [
    "dataset.labels"
   ]
  },
  {
   "cell_type": "markdown",
   "id": "alternate-arnold",
   "metadata": {},
   "source": [
    "## Show some images"
   ]
  },
  {
   "cell_type": "code",
   "execution_count": null,
   "id": "descending-ivory",
   "metadata": {},
   "outputs": [],
   "source": [
    "Image.fromarray(dataset.images[6])"
   ]
  },
  {
   "cell_type": "code",
   "execution_count": null,
   "id": "respective-chancellor",
   "metadata": {},
   "outputs": [],
   "source": [
    "Image.fromarray(dataset.images[47])"
   ]
  },
  {
   "cell_type": "markdown",
   "id": "silver-velvet",
   "metadata": {},
   "source": [
    "# Load model"
   ]
  },
  {
   "cell_type": "code",
   "execution_count": null,
   "id": "adult-setting",
   "metadata": {},
   "outputs": [],
   "source": [
    "mlflow_model = load_model(model_path)"
   ]
  },
  {
   "cell_type": "code",
   "execution_count": null,
   "id": "irish-season",
   "metadata": {},
   "outputs": [],
   "source": [
    "art_model = create_art_model(mlflow_model)"
   ]
  },
  {
   "cell_type": "markdown",
   "id": "accessory-noise",
   "metadata": {},
   "source": [
    "## Test model"
   ]
  },
  {
   "cell_type": "code",
   "execution_count": null,
   "id": "rental-backing",
   "metadata": {},
   "outputs": [],
   "source": [
    "predictions = art_model.predict(dataset.images).argmax(-1)"
   ]
  },
  {
   "cell_type": "code",
   "execution_count": null,
   "id": "grand-luther",
   "metadata": {},
   "outputs": [],
   "source": [
    "predictions"
   ]
  },
  {
   "cell_type": "markdown",
   "id": "sharp-muslim",
   "metadata": {},
   "source": [
    "# Calc accuracy and robustness"
   ]
  },
  {
   "cell_type": "code",
   "execution_count": null,
   "id": "senior-radio",
   "metadata": {},
   "outputs": [],
   "source": [
    "acc = accuracy_score(dataset.labels, predictions)"
   ]
  },
  {
   "cell_type": "code",
   "execution_count": null,
   "id": "designing-shopper",
   "metadata": {},
   "outputs": [],
   "source": [
    "acc"
   ]
  },
  {
   "cell_type": "code",
   "execution_count": null,
   "id": "raising-favorite",
   "metadata": {},
   "outputs": [],
   "source": [
    "robust_acc = robustness_accuracy(art_model, dataset.images, attack_name='fgsm')"
   ]
  },
  {
   "cell_type": "code",
   "execution_count": null,
   "id": "descending-sullivan",
   "metadata": {},
   "outputs": [],
   "source": [
    "robust_acc"
   ]
  },
  {
   "cell_type": "markdown",
   "id": "opposite-knock",
   "metadata": {},
   "source": [
    "# Apply aidefender's BaRT defense"
   ]
  },
  {
   "cell_type": "code",
   "execution_count": null,
   "id": "strategic-suffering",
   "metadata": {},
   "outputs": [],
   "source": [
    "defense = BaRT() # channels_first=art_model.channels_first"
   ]
  },
  {
   "cell_type": "code",
   "execution_count": null,
   "id": "handy-moldova",
   "metadata": {},
   "outputs": [],
   "source": [
    "defense"
   ]
  },
  {
   "cell_type": "code",
   "execution_count": null,
   "id": "directed-belgium",
   "metadata": {},
   "outputs": [],
   "source": [
    "art_model.set_params(preprocessing_defences=defense)"
   ]
  },
  {
   "cell_type": "markdown",
   "id": "finite-supplement",
   "metadata": {},
   "source": [
    "## Calc accuracy and robustness of the defended model"
   ]
  },
  {
   "cell_type": "code",
   "execution_count": null,
   "id": "extra-relevance",
   "metadata": {},
   "outputs": [],
   "source": [
    "predictions = art_model.predict(dataset.images).argmax(-1)"
   ]
  },
  {
   "cell_type": "code",
   "execution_count": null,
   "id": "raising-candle",
   "metadata": {},
   "outputs": [],
   "source": [
    "acc = accuracy_score(dataset.labels, predictions)"
   ]
  },
  {
   "cell_type": "code",
   "execution_count": null,
   "id": "academic-access",
   "metadata": {},
   "outputs": [],
   "source": [
    "acc"
   ]
  },
  {
   "cell_type": "code",
   "execution_count": null,
   "id": "plain-material",
   "metadata": {},
   "outputs": [],
   "source": [
    "robust_acc = robustness_accuracy(art_model, dataset.images, attack_name='fgsm')"
   ]
  },
  {
   "cell_type": "code",
   "execution_count": null,
   "id": "apart-infrastructure",
   "metadata": {},
   "outputs": [],
   "source": [
    "robust_acc"
   ]
  },
  {
   "cell_type": "markdown",
   "id": "gothic-palace",
   "metadata": {},
   "source": [
    "# Save model"
   ]
  },
  {
   "cell_type": "code",
   "execution_count": null,
   "id": "recorded-apparel",
   "metadata": {},
   "outputs": [],
   "source": [
    "tmp_dir = tempfile.mkdtemp(prefix='aidefender')"
   ]
  },
  {
   "cell_type": "code",
   "execution_count": null,
   "id": "bacterial-basics",
   "metadata": {},
   "outputs": [],
   "source": [
    "tmp_dir"
   ]
  },
  {
   "cell_type": "code",
   "execution_count": null,
   "id": "infinite-pioneer",
   "metadata": {},
   "outputs": [],
   "source": [
    "model_path = os.path.join(tmp_dir, 'model')"
   ]
  },
  {
   "cell_type": "code",
   "execution_count": null,
   "id": "female-helicopter",
   "metadata": {},
   "outputs": [],
   "source": [
    "save_art_model(art_model, model_path)"
   ]
  },
  {
   "cell_type": "code",
   "execution_count": null,
   "id": "sweet-reynolds",
   "metadata": {},
   "outputs": [],
   "source": [
    "!cat {model_path}/MLmodel"
   ]
  },
  {
   "cell_type": "code",
   "execution_count": null,
   "id": "sharing-throw",
   "metadata": {},
   "outputs": [],
   "source": []
  }
 ],
 "metadata": {
  "kernelspec": {
   "name": "python3",
   "display_name": "Python 3.7.7 64-bit ('aidefender': conda)"
  },
  "language_info": {
   "codemirror_mode": {
    "name": "ipython",
    "version": 3
   },
   "file_extension": ".py",
   "mimetype": "text/x-python",
   "name": "python",
   "nbconvert_exporter": "python",
   "pygments_lexer": "ipython3",
   "version": "3.7.7"
  },
  "interpreter": {
   "hash": "bcb057a27b336553647f34fd98c821015c466d02df2fd2c41a74708d620c1f65"
  }
 },
 "nbformat": 4,
 "nbformat_minor": 5
}