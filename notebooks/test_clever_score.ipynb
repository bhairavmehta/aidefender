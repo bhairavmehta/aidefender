{
 "cells": [
  {
   "cell_type": "code",
   "execution_count": 1,
   "id": "fatal-belfast",
   "metadata": {},
   "outputs": [],
   "source": [
    "import torch\n",
    "import mlflow\n",
    "import numpy as np\n",
    "from aidefender.exp.datasets import create_dataset\n",
    "from aidefender.utils.mlflow import create_art_model\n",
    "from aidefender.robustness import clever_score"
   ]
  },
  {
   "cell_type": "markdown",
   "id": "available-patch",
   "metadata": {},
   "source": [
    "# Parameters"
   ]
  },
  {
   "cell_type": "code",
   "execution_count": 2,
   "id": "specified-denmark",
   "metadata": {},
   "outputs": [],
   "source": [
    "dataset_class = 'aidefender.exp.datasets.CatsAndDogsDataset'\n",
    "data_path = '../artifacts/data/cats_dogs_small/'\n",
    "model_path = '../artifacts/models/mlflow_cats_and_dogs_pytorch/'"
   ]
  },
  {
   "cell_type": "markdown",
   "id": "empty-budapest",
   "metadata": {},
   "source": [
    "# Load dataset"
   ]
  },
  {
   "cell_type": "code",
   "execution_count": 3,
   "id": "comparable-czech",
   "metadata": {},
   "outputs": [],
   "source": [
    "dataset = create_dataset(dataset_class, data_path)"
   ]
  },
  {
   "cell_type": "code",
   "execution_count": 4,
   "id": "hidden-pantyhose",
   "metadata": {},
   "outputs": [
    {
     "output_type": "execute_result",
     "data": {
      "text/plain": [
       "aidefender.exp.datasets.CatsAndDogsDataset"
      ]
     },
     "metadata": {},
     "execution_count": 4
    }
   ],
   "source": [
    "type(dataset)"
   ]
  },
  {
   "cell_type": "code",
   "execution_count": 5,
   "id": "ranging-necklace",
   "metadata": {},
   "outputs": [],
   "source": [
    "images = torch.stack([sample[0] for sample in dataset]).cpu().numpy().astype(np.uint8)\n",
    "labels = torch.stack([sample[1] for sample in dataset]).cpu().numpy().astype(np.long)"
   ]
  },
  {
   "cell_type": "code",
   "execution_count": 6,
   "id": "yellow-publicity",
   "metadata": {},
   "outputs": [
    {
     "output_type": "execute_result",
     "data": {
      "text/plain": [
       "((20, 224, 224, 3), (20,))"
      ]
     },
     "metadata": {},
     "execution_count": 6
    }
   ],
   "source": [
    "images.shape, labels.shape"
   ]
  },
  {
   "cell_type": "markdown",
   "id": "embedded-freeware",
   "metadata": {},
   "source": [
    "# Load model"
   ]
  },
  {
   "cell_type": "code",
   "execution_count": 7,
   "id": "affected-earth",
   "metadata": {},
   "outputs": [],
   "source": [
    "mlflow_model = mlflow.pyfunc.load_model(model_path)"
   ]
  },
  {
   "cell_type": "code",
   "execution_count": 8,
   "id": "fixed-calibration",
   "metadata": {},
   "outputs": [
    {
     "output_type": "execute_result",
     "data": {
      "text/plain": [
       "mlflow.pyfunc.PyFuncModel"
      ]
     },
     "metadata": {},
     "execution_count": 8
    }
   ],
   "source": [
    "type(mlflow_model)"
   ]
  },
  {
   "cell_type": "code",
   "execution_count": 9,
   "metadata": {},
   "outputs": [],
   "source": [
    "art_model = create_art_model(mlflow_model)"
   ]
  },
  {
   "cell_type": "code",
   "execution_count": 10,
   "metadata": {},
   "outputs": [
    {
     "output_type": "execute_result",
     "data": {
      "text/plain": [
       "art.estimators.classification.pytorch.PyTorchClassifier"
      ]
     },
     "metadata": {},
     "execution_count": 10
    }
   ],
   "source": [
    "type(art_model)"
   ]
  },
  {
   "cell_type": "code",
   "execution_count": 11,
   "metadata": {},
   "outputs": [
    {
     "output_type": "stream",
     "name": "stderr",
     "text": [
      "CLEVER untargeted: 100%|██████████| 1/1 [00:05<00:00,  5.03s/it]\n",
      "CLEVER untargeted: 100%|██████████| 1/1 [00:04<00:00,  4.78s/it]\n",
      "CLEVER untargeted: 100%|██████████| 1/1 [00:04<00:00,  4.73s/it]\n",
      "CLEVER untargeted: 100%|██████████| 1/1 [00:05<00:00,  5.06s/it]\n",
      "CLEVER untargeted: 100%|██████████| 1/1 [00:04<00:00,  4.79s/it]\n",
      "CLEVER untargeted: 100%|██████████| 1/1 [00:04<00:00,  4.71s/it]\n",
      "CLEVER untargeted: 100%|██████████| 1/1 [00:04<00:00,  4.62s/it]\n",
      "CLEVER untargeted: 100%|██████████| 1/1 [00:04<00:00,  4.66s/it]\n",
      "CLEVER untargeted: 100%|██████████| 1/1 [00:04<00:00,  4.78s/it]\n",
      "CLEVER untargeted: 100%|██████████| 1/1 [00:04<00:00,  4.79s/it]\n",
      "CLEVER untargeted: 100%|██████████| 1/1 [00:04<00:00,  4.82s/it]\n",
      "CLEVER untargeted: 100%|██████████| 1/1 [00:04<00:00,  4.97s/it]\n",
      "CLEVER untargeted: 100%|██████████| 1/1 [00:05<00:00,  5.94s/it]\n",
      "CLEVER untargeted: 100%|██████████| 1/1 [00:05<00:00,  5.63s/it]\n",
      "CLEVER untargeted: 100%|██████████| 1/1 [00:05<00:00,  5.80s/it]\n",
      "CLEVER untargeted: 100%|██████████| 1/1 [00:05<00:00,  5.73s/it]\n",
      "CLEVER untargeted: 100%|██████████| 1/1 [00:05<00:00,  5.66s/it]\n",
      "CLEVER untargeted: 100%|██████████| 1/1 [00:05<00:00,  5.61s/it]\n",
      "CLEVER untargeted: 100%|██████████| 1/1 [00:05<00:00,  5.49s/it]\n",
      "CLEVER untargeted: 100%|██████████| 1/1 [00:05<00:00,  5.62s/it]Min clever score = 0.1\n",
      "\n"
     ]
    }
   ],
   "source": [
    "print(\"Min clever score =\", clever_score(art_model, images, sample_size=5))"
   ]
  },
  {
   "cell_type": "code",
   "execution_count": null,
   "metadata": {},
   "outputs": [],
   "source": []
  }
 ],
 "metadata": {
  "kernelspec": {
   "name": "python3710jvsc74a57bd0dc040e824202723acceaf25fd53a5eb7914a677f8a8b019d5ed1272218475c27",
   "display_name": "Python 3.7.10 64-bit ('aidefender': conda)"
  },
  "language_info": {
   "codemirror_mode": {
    "name": "ipython",
    "version": 3
   },
   "file_extension": ".py",
   "mimetype": "text/x-python",
   "name": "python",
   "nbconvert_exporter": "python",
   "pygments_lexer": "ipython3",
   "version": "3.7.10"
  }
 },
 "nbformat": 4,
 "nbformat_minor": 5
}