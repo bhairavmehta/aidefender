{
 "cells": [
  {
   "cell_type": "code",
   "execution_count": null,
   "id": "strategic-allen",
   "metadata": {},
   "outputs": [],
   "source": [
    "import os\n",
    "\n",
    "import pandas as pd\n",
    "import mlflow\n",
    "import mlflow.tensorflow\n",
    "from tensorflow.python.saved_model import tag_constants\n",
    "\n",
    "from art.attacks.evasion import FastGradientMethod\n",
    "\n",
    "from aidefender.exp.datasets import create_dataset"
   ]
  },
  {
   "cell_type": "code",
   "execution_count": null,
   "id": "extended-staff",
   "metadata": {},
   "outputs": [],
   "source": [
    "models_dir = '/datadrive/alromano/aidefender/artifacts/models/'\n",
    "tensorflow_savedmodel_dir = os.path.join(models_dir, 'customvision_cats_and_dogs_tf_savedmodel')\n",
    "mlflow_dir = os.path.join(models_dir, 'mlflow_cats_and_dogs_customvision_tf/')\n",
    "\n",
    "dataset_class = 'aidefender.exp.datasets.CatsAndDogsDataset'\n",
    "data_path = '../artifacts/data/cats_dogs_small/'"
   ]
  },
  {
   "cell_type": "code",
   "execution_count": null,
   "id": "instant-temperature",
   "metadata": {},
   "outputs": [],
   "source": [
    "dataset = create_dataset(dataset_class, data_path)"
   ]
  },
  {
   "cell_type": "code",
   "execution_count": null,
   "id": "auburn-slovak",
   "metadata": {},
   "outputs": [],
   "source": [
    "tf_meta_graph_tags=[tag_constants.SERVING]\n",
    "tf_signature_def_key='serving_default'"
   ]
  },
  {
   "cell_type": "code",
   "execution_count": null,
   "id": "magnetic-preference",
   "metadata": {},
   "outputs": [],
   "source": [
    "mlflow.tensorflow.save_model(\n",
    "    tf_saved_model_dir=tensorflow_savedmodel_dir, \n",
    "    tf_meta_graph_tags=tf_meta_graph_tags, \n",
    "    tf_signature_def_key=tf_signature_def_key, \n",
    "    path=mlflow_dir,\n",
    "    signature=dataset.model_signature\n",
    ")"
   ]
  },
  {
   "cell_type": "markdown",
   "id": "bored-upset",
   "metadata": {},
   "source": [
    "# Test the model"
   ]
  },
  {
   "cell_type": "code",
   "execution_count": null,
   "id": "lasting-narrow",
   "metadata": {},
   "outputs": [],
   "source": [
    "mlflow_model = mlflow.pyfunc.load_model(mlflow_dir)"
   ]
  },
  {
   "cell_type": "code",
   "execution_count": null,
   "id": "illegal-jerusalem",
   "metadata": {},
   "outputs": [],
   "source": [
    "mlflow_model.predict({'inputs': dataset.images[0:1]})"
   ]
  },
  {
   "cell_type": "code",
   "execution_count": null,
   "id": "departmental-cylinder",
   "metadata": {},
   "outputs": [],
   "source": [
    "type(mlflow_model._model_impl)"
   ]
  },
  {
   "cell_type": "code",
   "execution_count": null,
   "id": "sealed-wisdom",
   "metadata": {},
   "outputs": [],
   "source": [
    "next(iter(mlflow_model._model_impl.input_tensor_mapping.values()))"
   ]
  },
  {
   "cell_type": "code",
   "execution_count": null,
   "id": "banner-treasurer",
   "metadata": {},
   "outputs": [],
   "source": [
    "next(iter(mlflow_model._model_impl.output_tensors.values()))"
   ]
  },
  {
   "cell_type": "markdown",
   "id": "ceramic-invite",
   "metadata": {},
   "source": [
    "# Create ART classifier"
   ]
  },
  {
   "cell_type": "code",
   "execution_count": null,
   "id": "selective-people",
   "metadata": {},
   "outputs": [],
   "source": [
    "from aidefender.utils.mlflow import create_art_model"
   ]
  },
  {
   "cell_type": "code",
   "execution_count": null,
   "id": "described-shelter",
   "metadata": {},
   "outputs": [],
   "source": [
    "art_model = create_art_model(mlflow_model)"
   ]
  },
  {
   "cell_type": "code",
   "execution_count": null,
   "id": "upset-track",
   "metadata": {},
   "outputs": [],
   "source": [
    "art_model.predict(dataset.images, batch_size=1).argmax(-1)"
   ]
  },
  {
   "cell_type": "markdown",
   "id": "removable-result",
   "metadata": {},
   "source": [
    "## Attack"
   ]
  },
  {
   "cell_type": "code",
   "execution_count": null,
   "id": "ceramic-ethnic",
   "metadata": {},
   "outputs": [],
   "source": [
    "attack = FastGradientMethod(art_model)\n",
    "attack.set_params(batch_size=1)"
   ]
  },
  {
   "cell_type": "code",
   "execution_count": null,
   "id": "individual-bishop",
   "metadata": {},
   "outputs": [],
   "source": [
    "images = dataset.images[0:3]"
   ]
  },
  {
   "cell_type": "code",
   "execution_count": null,
   "id": "boolean-accounting",
   "metadata": {},
   "outputs": [],
   "source": [
    "images.shape"
   ]
  },
  {
   "cell_type": "code",
   "execution_count": null,
   "id": "fabulous-cardiff",
   "metadata": {},
   "outputs": [],
   "source": [
    "images_adv = attack.generate(images)"
   ]
  },
  {
   "cell_type": "code",
   "execution_count": null,
   "id": "prescribed-anime",
   "metadata": {},
   "outputs": [],
   "source": [
    "art_model.predict(images).argmax(-1)"
   ]
  },
  {
   "cell_type": "code",
   "execution_count": null,
   "id": "mighty-excerpt",
   "metadata": {},
   "outputs": [],
   "source": [
    "art_model.predict(images_adv).argmax(-1)"
   ]
  },
  {
   "cell_type": "code",
   "execution_count": null,
   "id": "handmade-mustang",
   "metadata": {},
   "outputs": [],
   "source": []
  }
 ],
 "metadata": {
  "kernelspec": {
   "display_name": "Python 3",
   "language": "python",
   "name": "python3"
  },
  "language_info": {
   "codemirror_mode": {
    "name": "ipython",
    "version": 3
   },
   "file_extension": ".py",
   "mimetype": "text/x-python",
   "name": "python",
   "nbconvert_exporter": "python",
   "pygments_lexer": "ipython3",
   "version": "3.7.9"
  }
 },
 "nbformat": 4,
 "nbformat_minor": 5
}
