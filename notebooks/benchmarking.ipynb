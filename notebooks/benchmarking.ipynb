{
 "cells": [
  {
   "cell_type": "markdown",
   "metadata": {},
   "source": [
    "# Benchmark\n",
    "\n",
    "In this notebook we walkthrough how we can benchmark multiple attack and defences applied on a model. We will also see how we can submit the benchmarking as an experiment in AML as well. There are two classes that we will focus here - ``AttackBenchmark`` and ``DefenceBenchmark``. "
   ]
  },
  {
   "cell_type": "markdown",
   "metadata": {},
   "source": [
    "## Loading model and dataset\n",
    "The first thing we will need is to load a model in mlfflow."
   ]
  },
  {
   "cell_type": "code",
   "execution_count": 1,
   "metadata": {},
   "outputs": [
    {
     "name": "stdout",
     "output_type": "stream",
     "text": [
      "Model: <class 'mlflow.pyfunc.PyFuncModel'>\n"
     ]
    }
   ],
   "source": [
    "import mlflow\n",
    "\n",
    "model_path = \"../../models/grocery_mlflow/\"\n",
    "mlflow_model = mlflow.pyfunc.load_model(model_path)\n",
    "print(f'Model: {type(mlflow_model)}')"
   ]
  },
  {
   "cell_type": "markdown",
   "metadata": {},
   "source": [
    "As most of our module works with art model class, we need to convert the loaded model to art format"
   ]
  },
  {
   "cell_type": "code",
   "execution_count": 2,
   "metadata": {},
   "outputs": [
    {
     "name": "stdout",
     "output_type": "stream",
     "text": [
      "ART classifier: <class 'art.estimators.classification.pytorch.PyTorchClassifier'>\n"
     ]
    }
   ],
   "source": [
    "from aidefender.utils.mlflow import create_art_model\n",
    "\n",
    "classifier = create_art_model(mlflow_model)\n",
    "print(f'ART classifier: {type(classifier)}')"
   ]
  },
  {
   "cell_type": "markdown",
   "metadata": {},
   "source": [
    "Next task is to load the dataset for experiment"
   ]
  },
  {
   "cell_type": "code",
   "execution_count": 3,
   "metadata": {},
   "outputs": [
    {
     "name": "stdout",
     "output_type": "stream",
     "text": [
      "Loading images and labels from the dir: ../../data/grocery/images/\n",
      "BEANS: only 136 images\n",
      "CAKE: only 161 images\n",
      "CANDY: only 372 images\n",
      "CEREAL: only 278 images\n",
      "CHIPS: only 181 images\n",
      "CHOCOLATE: only 307 images\n",
      "COFFEE: only 298 images\n",
      "CORN: only 97 images\n",
      "FISH: only 110 images\n",
      "FLOUR: only 109 images\n",
      "HONEY: only 185 images\n",
      "JAM: only 241 images\n",
      "JUICE: only 302 images\n",
      "MILK: only 162 images\n",
      "NUTS: only 168 images\n",
      "OIL: only 143 images\n",
      "PASTA: only 172 images\n",
      "RICE: only 150 images\n",
      "SODA: only 177 images\n",
      "SPICES: only 207 images\n",
      "SUGAR: only 118 images\n",
      "TEA: only 283 images\n",
      "TOMATO_SAUCE: only 171 images\n",
      "VINEGAR: only 157 images\n",
      "WATER: only 262 images\n"
     ]
    }
   ],
   "source": [
    "from aidefender.exp.datasets import create_dataset, split_train_val\n",
    "\n",
    "data_path = \"../../data/grocery/images/\"\n",
    "dataset = create_dataset('aidefender.exp.datasets.GroceryDataset', data_path)\n",
    "dataset_train, dataset_val = split_train_val(dataset, test_size=0.2)  \n"
   ]
  },
  {
   "cell_type": "markdown",
   "metadata": {},
   "source": [
    "## Attack Benchmark\n",
    "\n",
    "Let us benchmark bunch of attacks first. We rely on ART library so we can use attacks implemented in art library. We provide the attack name and parameter space via a dictionary."
   ]
  },
  {
   "cell_type": "code",
   "execution_count": 4,
   "metadata": {},
   "outputs": [],
   "source": [
    "import warnings\n",
    "from aidefender.benchmark.attack import AttackBenchmark\n",
    "from aidefender.exp.datasets import create_dataset, split_train_val\n",
    "\n",
    "warnings.filterwarnings(action='ignore')"
   ]
  },
  {
   "cell_type": "markdown",
   "metadata": {},
   "source": [
    "To apply multiple attacks we need to create an instance of ``AttackBenchmark``. We need to provide the attack configuration. We can load it from a json config or we can just simply use a *dict* object. Let us look at an example config first:\n",
    "\n",
    "```json\n",
    "{\n",
    "    \"fgsm\":{\n",
    "        \"eps\": [0.1, 0.2],\n",
    "        \"batch_size\": [128],\n",
    "        \"norm\": [1, 2, \"inf\"]\n",
    "    },\n",
    "    \"pgd\":{\n",
    "        \"norm\" : [1, 2, \"inf\"],\n",
    "        \"eps\": [0.1, 0.2],\n",
    "        \"batch_size\": [128]\n",
    "    },\n",
    "    \"deepfool\":{\n",
    "        \"max_iter\": [5, 10],\n",
    "        \"batch_size\": [128]\n",
    "    }\n",
    "}\n",
    "```\n",
    "\n",
    "Notice the keys correspond to different attacks. It is important to know the supported keys. These keys basically map it to corresponding art attack object. The full list of supported attacks at the moment are : ``['fgsm', 'pgd', 'hsj', square', 'deepfool', 'cwl2', 'cwlinf', 'boundary']`` We can add more attack capability in **aidefender.attacks**. Let us make a config object now:\n"
   ]
  },
  {
   "cell_type": "code",
   "execution_count": 5,
   "metadata": {},
   "outputs": [],
   "source": [
    "attack_config = {\n",
    "    \"fgsm\":{\n",
    "        \"eps\": [0.1, 0.2],\n",
    "        \"batch_size\": [128],\n",
    "        \"norm\": [1, 2, \"inf\"]\n",
    "    },\n",
    "    \"deepfool\":{\n",
    "        \"max_iter\": [5, 10],\n",
    "        \"batch_size\": [128]\n",
    "    }\n",
    "}"
   ]
  },
  {
   "cell_type": "markdown",
   "metadata": {},
   "source": [
    "Now we have everything in place to create our attack benchmark object."
   ]
  },
  {
   "cell_type": "code",
   "execution_count": 6,
   "metadata": {},
   "outputs": [],
   "source": [
    "ab = AttackBenchmark(model=classifier, dataset=dataset, attack_configs=attack_config, num_samples=2)\n"
   ]
  },
  {
   "cell_type": "markdown",
   "metadata": {},
   "source": [
    "We can run attack on the whole dataset, but it might be big. So we can limit that by using how many number of samples per class we want to use. "
   ]
  },
  {
   "cell_type": "code",
   "execution_count": 7,
   "metadata": {},
   "outputs": [
    {
     "name": "stdout",
     "output_type": "stream",
     "text": [
      "Generating Adversarial images with fgsm_0.....\n",
      "Attack params: {'eps': 0.1, 'batch_size': 128, 'norm': 1}\n",
      "\t -Robustness accuracy: 1.0  (361 ms)\n",
      "\n",
      "Generating Adversarial images with fgsm_1.....\n",
      "Attack params: {'eps': 0.1, 'batch_size': 128, 'norm': 2}\n",
      "\t -Robustness accuracy: 1.0  (346 ms)\n",
      "\n",
      "Generating Adversarial images with fgsm_2.....\n",
      "Attack params: {'eps': 0.1, 'batch_size': 128, 'norm': 'inf'}\n",
      "\t -Robustness accuracy: 0.78  (366 ms)\n",
      "\n",
      "Generating Adversarial images with fgsm_3.....\n",
      "Attack params: {'eps': 0.2, 'batch_size': 128, 'norm': 1}\n",
      "\t -Robustness accuracy: 1.0  (344 ms)\n",
      "\n",
      "Generating Adversarial images with fgsm_4.....\n",
      "Attack params: {'eps': 0.2, 'batch_size': 128, 'norm': 2}\n",
      "\t -Robustness accuracy: 1.0  (349 ms)\n",
      "\n",
      "Generating Adversarial images with fgsm_5.....\n",
      "Attack params: {'eps': 0.2, 'batch_size': 128, 'norm': 'inf'}\n",
      "\t -Robustness accuracy: 0.44  (358 ms)\n",
      "\n",
      "Generating Adversarial images with deepfool_0.....\n",
      "Attack params: {'max_iter': 5, 'batch_size': 128}\n"
     ]
    },
    {
     "data": {
      "application/vnd.jupyter.widget-view+json": {
       "model_id": "637c89163c854a90852c41db75a6b6f5",
       "version_major": 2,
       "version_minor": 0
      },
      "text/plain": [
       "DeepFool:   0%|          | 0/1 [00:00<?, ?it/s]"
      ]
     },
     "metadata": {},
     "output_type": "display_data"
    },
    {
     "name": "stdout",
     "output_type": "stream",
     "text": [
      "\t -Robustness accuracy: 0.0  (18680 ms)\n",
      "\n",
      "Generating Adversarial images with deepfool_1.....\n",
      "Attack params: {'max_iter': 10, 'batch_size': 128}\n"
     ]
    },
    {
     "data": {
      "application/vnd.jupyter.widget-view+json": {
       "model_id": "d3331b7129fb42ba89ec9353d74bd7dc",
       "version_major": 2,
       "version_minor": 0
      },
      "text/plain": [
       "DeepFool:   0%|          | 0/1 [00:00<?, ?it/s]"
      ]
     },
     "metadata": {},
     "output_type": "display_data"
    },
    {
     "name": "stdout",
     "output_type": "stream",
     "text": [
      "\t -Robustness accuracy: 0.0  (18643 ms)\n",
      "\n"
     ]
    }
   ],
   "source": [
    "results = ab.run()"
   ]
  },
  {
   "cell_type": "code",
   "execution_count": 8,
   "metadata": {},
   "outputs": [
    {
     "data": {
      "text/html": [
       "<div>\n",
       "<style scoped>\n",
       "    .dataframe tbody tr th:only-of-type {\n",
       "        vertical-align: middle;\n",
       "    }\n",
       "\n",
       "    .dataframe tbody tr th {\n",
       "        vertical-align: top;\n",
       "    }\n",
       "\n",
       "    .dataframe thead th {\n",
       "        text-align: right;\n",
       "    }\n",
       "</style>\n",
       "<table border=\"1\" class=\"dataframe\">\n",
       "  <thead>\n",
       "    <tr style=\"text-align: right;\">\n",
       "      <th></th>\n",
       "      <th>name</th>\n",
       "      <th>params</th>\n",
       "      <th>robustness_accuracy</th>\n",
       "      <th>time(ms)</th>\n",
       "    </tr>\n",
       "  </thead>\n",
       "  <tbody>\n",
       "    <tr>\n",
       "      <th>0</th>\n",
       "      <td>fgsm_0</td>\n",
       "      <td>{'eps': 0.1, 'batch_size': 128, 'norm': 1}</td>\n",
       "      <td>1.00</td>\n",
       "      <td>361</td>\n",
       "    </tr>\n",
       "    <tr>\n",
       "      <th>1</th>\n",
       "      <td>fgsm_1</td>\n",
       "      <td>{'eps': 0.1, 'batch_size': 128, 'norm': 2}</td>\n",
       "      <td>1.00</td>\n",
       "      <td>346</td>\n",
       "    </tr>\n",
       "    <tr>\n",
       "      <th>2</th>\n",
       "      <td>fgsm_2</td>\n",
       "      <td>{'eps': 0.1, 'batch_size': 128, 'norm': 'inf'}</td>\n",
       "      <td>0.78</td>\n",
       "      <td>366</td>\n",
       "    </tr>\n",
       "    <tr>\n",
       "      <th>3</th>\n",
       "      <td>fgsm_3</td>\n",
       "      <td>{'eps': 0.2, 'batch_size': 128, 'norm': 1}</td>\n",
       "      <td>1.00</td>\n",
       "      <td>344</td>\n",
       "    </tr>\n",
       "    <tr>\n",
       "      <th>4</th>\n",
       "      <td>fgsm_4</td>\n",
       "      <td>{'eps': 0.2, 'batch_size': 128, 'norm': 2}</td>\n",
       "      <td>1.00</td>\n",
       "      <td>349</td>\n",
       "    </tr>\n",
       "    <tr>\n",
       "      <th>5</th>\n",
       "      <td>fgsm_5</td>\n",
       "      <td>{'eps': 0.2, 'batch_size': 128, 'norm': 'inf'}</td>\n",
       "      <td>0.44</td>\n",
       "      <td>358</td>\n",
       "    </tr>\n",
       "    <tr>\n",
       "      <th>6</th>\n",
       "      <td>deepfool_0</td>\n",
       "      <td>{'max_iter': 5, 'batch_size': 128}</td>\n",
       "      <td>0.00</td>\n",
       "      <td>18680</td>\n",
       "    </tr>\n",
       "    <tr>\n",
       "      <th>7</th>\n",
       "      <td>deepfool_1</td>\n",
       "      <td>{'max_iter': 10, 'batch_size': 128}</td>\n",
       "      <td>0.00</td>\n",
       "      <td>18643</td>\n",
       "    </tr>\n",
       "  </tbody>\n",
       "</table>\n",
       "</div>"
      ],
      "text/plain": [
       "         name                                          params  \\\n",
       "0      fgsm_0      {'eps': 0.1, 'batch_size': 128, 'norm': 1}   \n",
       "1      fgsm_1      {'eps': 0.1, 'batch_size': 128, 'norm': 2}   \n",
       "2      fgsm_2  {'eps': 0.1, 'batch_size': 128, 'norm': 'inf'}   \n",
       "3      fgsm_3      {'eps': 0.2, 'batch_size': 128, 'norm': 1}   \n",
       "4      fgsm_4      {'eps': 0.2, 'batch_size': 128, 'norm': 2}   \n",
       "5      fgsm_5  {'eps': 0.2, 'batch_size': 128, 'norm': 'inf'}   \n",
       "6  deepfool_0              {'max_iter': 5, 'batch_size': 128}   \n",
       "7  deepfool_1             {'max_iter': 10, 'batch_size': 128}   \n",
       "\n",
       "   robustness_accuracy time(ms)  \n",
       "0                 1.00      361  \n",
       "1                 1.00      346  \n",
       "2                 0.78      366  \n",
       "3                 1.00      344  \n",
       "4                 1.00      349  \n",
       "5                 0.44      358  \n",
       "6                 0.00    18680  \n",
       "7                 0.00    18643  "
      ]
     },
     "execution_count": 8,
     "metadata": {},
     "output_type": "execute_result"
    }
   ],
   "source": [
    "results"
   ]
  },
  {
   "cell_type": "markdown",
   "metadata": {},
   "source": [
    "## Defense Benchmark\n",
    "Similar to attack benchmarking we need a defence config to test. \n",
    "\n",
    "\n"
   ]
  },
  {
   "cell_type": "code",
   "execution_count": 11,
   "metadata": {},
   "outputs": [
    {
     "name": "stdout",
     "output_type": "stream",
     "text": [
      "- Base Model Robustness: 0.34 \n",
      "\n",
      "- Base Model Accuracy 0.72\n",
      "--------------------- SpatialSmoothing_0 --------------------------\n",
      "\n",
      "- Model Robustness accuracy with (SpatialSmoothing_0): 0.6\n",
      "- Model accuracy: 0.7\n",
      "--------------------- SpatialSmoothing_1 --------------------------\n",
      "\n",
      "- Model Robustness accuracy with (SpatialSmoothing_1): 0.58\n",
      "- Model accuracy: 0.7\n",
      "--------------------- FeatureSqueezing_0 --------------------------\n",
      "\n",
      "- Model Robustness accuracy with (FeatureSqueezing_0): 0.32\n",
      "- Model accuracy: 0.72\n",
      "--------------------- FeatureSqueezing_1 --------------------------\n",
      "\n",
      "  4%|▍         | 2/50 [00:00<00:02, 17.24it/s]- Model Robustness accuracy with (FeatureSqueezing_1): 0.36\n",
      "- Model accuracy: 0.72\n",
      "--------------------- BaRT_0 --------------------------\n",
      "\n",
      "100%|██████████| 50/50 [00:02<00:00, 17.67it/s]\n",
      "100%|██████████| 32/32 [00:00<00:00, 33.28it/s]\n",
      "100%|██████████| 18/18 [00:00<00:00, 27.63it/s]\n",
      "100%|██████████| 50/50 [00:02<00:00, 20.73it/s]\n",
      "100%|██████████| 50/50 [00:03<00:00, 16.46it/s]\n",
      "100%|██████████| 50/50 [00:03<00:00, 13.10it/s]\n",
      "100%|██████████| 50/50 [00:02<00:00, 24.37it/s]\n",
      "100%|██████████| 50/50 [00:03<00:00, 14.23it/s]- Model Robustness accuracy with (BaRT_0): 0.6\n",
      "- Model accuracy: 0.1\n",
      "\n"
     ]
    }
   ],
   "source": [
    "from aidefender.benchmark.defence import DefenceBenchmark\n",
    "\n",
    "defense_config = {\n",
    "                    \"art.defences\": {\n",
    "                        \"preprocessor\":{\n",
    "                            \"SpatialSmoothing\":{\n",
    "                                \"window_size\": [2,3]\n",
    "                            },\n",
    "                            \"FeatureSqueezing\":{\n",
    "                                \"bit_depth\": [2,3],\n",
    "                                \"clip_values\": [(0,1)]\n",
    "                            }\n",
    "                        }   \n",
    "                    },\n",
    "                    \"aidefender.defences\":{\n",
    "                        \"bart\": {\n",
    "                            \"BaRT\":{\n",
    "                                \"apply_fit\":[False],\n",
    "                                \"apply_predict\":[True]\n",
    "                            }\n",
    "                        }\n",
    "                    }\n",
    "                }\n",
    "\n",
    "db = DefenceBenchmark(model=classifier, dataset=dataset, defence_configs=defense_config, num_samples=2)\n",
    "results = db.run()"
   ]
  },
  {
   "cell_type": "markdown",
   "metadata": {},
   "source": [
    "## Benchmark AML Pipeline\n",
    "\n",
    "We can also run the benchmarking as an AML pipeline using the ``run_benchmark.py`` script in ``aidefender/exp/``\n",
    "\n",
    "```bash\n",
    "python run_benchmark.py --config_path=../../notebooks/configs/attack_config.json --model_path=grocery_net --type='attack'\n",
    "python run_benchmark.py --config_path=../../notebooks/configs/defense_config.json --model_path=grocery_net --type='defence'\n",
    "```\n"
   ]
  }
 ],
 "metadata": {
  "interpreter": {
   "hash": "e5be6309dd0337ded16f85f64cf1a202c116b0b32e2653c3d085d84f25e89361"
  },
  "kernelspec": {
   "display_name": "Python 3",
   "language": "python",
   "name": "python3"
  },
  "language_info": {
   "codemirror_mode": {
    "name": "ipython",
    "version": 3
   },
   "file_extension": ".py",
   "mimetype": "text/x-python",
   "name": "python",
   "nbconvert_exporter": "python",
   "pygments_lexer": "ipython3",
   "version": "3.7.0"
  }
 },
 "nbformat": 4,
 "nbformat_minor": 4
}