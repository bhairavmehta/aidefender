{
 "cells": [
  {
   "cell_type": "code",
   "execution_count": 1,
   "id": "greater-vaccine",
   "metadata": {},
   "outputs": [],
   "source": [
    "import numpy as np\n",
    "import torch\n",
    "import torch.nn.functional as F\n",
    "from art.utils import load_mnist\n",
    "from art.estimators.classification.pytorch import PyTorchClassifier\n",
    "from art.metrics.metrics import clever_t, clever_u, clever"
   ]
  },
  {
   "cell_type": "markdown",
   "id": "placed-cosmetic",
   "metadata": {},
   "source": [
    "# Create the classifier"
   ]
  },
  {
   "cell_type": "code",
   "execution_count": 2,
   "id": "dental-friend",
   "metadata": {},
   "outputs": [],
   "source": [
    "class Model(torch.nn.Module):\n",
    "    def __init__(self):\n",
    "        super(Model, self).__init__()\n",
    "        self.conv = torch.nn.Conv2d(1, 16, 5)\n",
    "        self.pool = torch.nn.MaxPool2d(2, 2)\n",
    "        self.fc = torch.nn.Linear(2304, 10)\n",
    "\n",
    "    def forward(self, x):\n",
    "        x = self.pool(F.relu(self.conv(x)))\n",
    "        x = x.view(-1, 2304)\n",
    "        logit_output = self.fc(x)\n",
    "\n",
    "        return logit_output\n",
    "\n",
    "# Define the network\n",
    "model = Model()\n",
    "\n",
    "# Define a loss function and optimizer\n",
    "loss_fn = torch.nn.CrossEntropyLoss()\n",
    "optimizer = torch.optim.Adam(model.parameters(), lr=0.01)\n",
    "\n",
    "# Get classifier\n",
    "ptc = PyTorchClassifier(\n",
    "    model=model, loss=loss_fn, optimizer=optimizer, input_shape=(1, 28, 28), nb_classes=10, clip_values=(0, 1)\n",
    ")"
   ]
  },
  {
   "cell_type": "code",
   "execution_count": 3,
   "id": "experimental-warrior",
   "metadata": {},
   "outputs": [
    {
     "name": "stderr",
     "output_type": "stream",
     "text": [
      "/Users/aromanov/code/microsoft/ai_defender/adversarial_robustness_toolbox/art/estimators/classification/pytorch.py:721: DeprecationWarning: Function 'channel_index' is deprecated and will be removed in future release 1.6.0. It will be replaced by 'channels_first'.\n",
      "  self.channel_index,\n"
     ]
    },
    {
     "data": {
      "text/plain": [
       "art.estimators.classification.pytorch.PyTorchClassifier(model=ModelWrapper(\n",
       "  (_model): Model(\n",
       "    (conv): Conv2d(1, 16, kernel_size=(5, 5), stride=(1, 1))\n",
       "    (pool): MaxPool2d(kernel_size=2, stride=2, padding=0, dilation=1, ceil_mode=False)\n",
       "    (fc): Linear(in_features=2304, out_features=10, bias=True)\n",
       "  )\n",
       "), loss=CrossEntropyLoss(), optimizer=Adam (\n",
       "Parameter Group 0\n",
       "    amsgrad: False\n",
       "    betas: (0.9, 0.999)\n",
       "    eps: 1e-08\n",
       "    lr: 0.01\n",
       "    weight_decay: 0\n",
       "), input_shape=(1, 28, 28), nb_classes=10, channel_index=<art.utils._Deprecated object at 0x7faa909d9050>, channels_first=True, clip_values=array([0., 1.], dtype=float32), preprocessing_defences=None, postprocessing_defences=None, preprocessing=[StandardisationMeanStdPyTorch(mean=0, std=1, apply_fit=True, apply_predict=True, device=cpu)])"
      ]
     },
     "execution_count": 3,
     "metadata": {},
     "output_type": "execute_result"
    }
   ],
   "source": [
    "ptc"
   ]
  },
  {
   "cell_type": "markdown",
   "id": "dense-administration",
   "metadata": {},
   "source": [
    "# Load data"
   ]
  },
  {
   "cell_type": "code",
   "execution_count": 4,
   "id": "impaired-renewal",
   "metadata": {},
   "outputs": [
    {
     "name": "stderr",
     "output_type": "stream",
     "text": [
      "/Users/aromanov/code/microsoft/ai_defender/venv/lib/python3.7/site-packages/ipykernel/ipkernel.py:283: DeprecationWarning: `should_run_async` will not call `transform_cell` automatically in the future. Please pass the result to `transformed_cell` argument and any exception that happen during thetransform in `preprocessing_exc_tuple` in IPython 7.17 and above.\n",
      "  and should_run_async(code)\n"
     ]
    }
   ],
   "source": [
    "# Get MNIST\n",
    "batch_size, nb_train, nb_test = 100, 1000, 10\n",
    "(x_train, y_train), (x_test, y_test), _, _ = load_mnist()\n",
    "x_train, y_train = x_train[:nb_train], y_train[:nb_train]\n",
    "x_test, y_test = x_test[:nb_test], y_test[:nb_test]\n",
    "x_train = np.swapaxes(x_train, 1, 3).astype(np.float32)\n",
    "x_test = np.swapaxes(x_test, 1, 3).astype(np.float32)"
   ]
  },
  {
   "cell_type": "code",
   "execution_count": 5,
   "id": "pacific-place",
   "metadata": {},
   "outputs": [
    {
     "data": {
      "text/plain": [
       "((1000, 1, 28, 28), (1000, 10))"
      ]
     },
     "execution_count": 5,
     "metadata": {},
     "output_type": "execute_result"
    }
   ],
   "source": [
    "x_train.shape, y_train.shape"
   ]
  },
  {
   "cell_type": "code",
   "execution_count": 6,
   "id": "composite-stocks",
   "metadata": {},
   "outputs": [
    {
     "data": {
      "text/plain": [
       "((10, 1, 28, 28), (10, 10))"
      ]
     },
     "execution_count": 6,
     "metadata": {},
     "output_type": "execute_result"
    }
   ],
   "source": [
    "x_test.shape, y_test.shape"
   ]
  },
  {
   "cell_type": "markdown",
   "id": "capable-music",
   "metadata": {},
   "source": [
    "# Train the model"
   ]
  },
  {
   "cell_type": "code",
   "execution_count": 7,
   "id": "equipped-transparency",
   "metadata": {},
   "outputs": [],
   "source": [
    "ptc.fit(x_train, y_train, batch_size=batch_size, nb_epochs=3)"
   ]
  },
  {
   "cell_type": "markdown",
   "id": "automatic-abuse",
   "metadata": {},
   "source": [
    "# Calc CLEVER"
   ]
  },
  {
   "cell_type": "code",
   "execution_count": 8,
   "id": "equivalent-buffer",
   "metadata": {},
   "outputs": [],
   "source": [
    "R_L1 = 40\n",
    "R_L2 = 2\n",
    "R_LI = 0.1"
   ]
  },
  {
   "cell_type": "code",
   "execution_count": 11,
   "id": "concerned-veteran",
   "metadata": {},
   "outputs": [
    {
     "name": "stdout",
     "output_type": "stream",
     "text": [
      "Targeted: 12.762, 2.000, 0.100\n"
     ]
    }
   ],
   "source": [
    "# Test targeted clever\n",
    "res0 = clever_t(ptc, x_test[-1], 2, 10, 5, R_L1, norm=1, pool_factor=3)\n",
    "res1 = clever_t(ptc, x_test[-1], 2, 10, 5, R_L2, norm=2, pool_factor=3)\n",
    "res2 = clever_t(ptc, x_test[-1], 2, 10, 5, R_LI, norm=np.inf, pool_factor=3)\n",
    "print(f'Targeted: {res0:.3f}, {res1:.3f}, {res2:.3f}')"
   ]
  },
  {
   "cell_type": "code",
   "execution_count": 12,
   "id": "foster-doctrine",
   "metadata": {},
   "outputs": [
    {
     "data": {
      "application/vnd.jupyter.widget-view+json": {
       "model_id": "e15c6f544a874a06b0191de33dc87b67",
       "version_major": 2,
       "version_minor": 0
      },
      "text/plain": [
       "HBox(children=(FloatProgress(value=0.0, description='CLEVER untargeted', max=9.0, style=ProgressStyle(descript…"
      ]
     },
     "metadata": {},
     "output_type": "display_data"
    },
    {
     "name": "stdout",
     "output_type": "stream",
     "text": [
      "\n"
     ]
    },
    {
     "data": {
      "application/vnd.jupyter.widget-view+json": {
       "model_id": "ce6ea01b433848c1a1a57f9cf65cb6e8",
       "version_major": 2,
       "version_minor": 0
      },
      "text/plain": [
       "HBox(children=(FloatProgress(value=0.0, description='CLEVER untargeted', max=9.0, style=ProgressStyle(descript…"
      ]
     },
     "metadata": {},
     "output_type": "display_data"
    },
    {
     "name": "stdout",
     "output_type": "stream",
     "text": [
      "\n"
     ]
    },
    {
     "data": {
      "application/vnd.jupyter.widget-view+json": {
       "model_id": "e8d1d8d88d244da9bce341c4e30aeac7",
       "version_major": 2,
       "version_minor": 0
      },
      "text/plain": [
       "HBox(children=(FloatProgress(value=0.0, description='CLEVER untargeted', max=9.0, style=ProgressStyle(descript…"
      ]
     },
     "metadata": {},
     "output_type": "display_data"
    },
    {
     "name": "stdout",
     "output_type": "stream",
     "text": [
      "\n",
      "Untargeted: 0.512, 0.102, 0.006\n"
     ]
    }
   ],
   "source": [
    "# Test untargeted clever\n",
    "res0 = clever_u(ptc, x_test[-1], 10, 5, R_L1, norm=1, pool_factor=3)\n",
    "res1 = clever_u(ptc, x_test[-1], 10, 5, R_L2, norm=2, pool_factor=3)\n",
    "res2 = clever_u(ptc, x_test[-1], 10, 5, R_LI, norm=np.inf, pool_factor=3)\n",
    "print(f'Untargeted: {res0:.3f}, {res1:.3f}, {res2:.3f}')"
   ]
  },
  {
   "cell_type": "code",
   "execution_count": null,
   "id": "ordered-patient",
   "metadata": {},
   "outputs": [],
   "source": []
  }
 ],
 "metadata": {
  "kernelspec": {
   "display_name": "Python 3",
   "language": "python",
   "name": "python3"
  },
  "language_info": {
   "codemirror_mode": {
    "name": "ipython",
    "version": 3
   },
   "file_extension": ".py",
   "mimetype": "text/x-python",
   "name": "python",
   "nbconvert_exporter": "python",
   "pygments_lexer": "ipython3",
   "version": "3.7.4"
  }
 },
 "nbformat": 4,
 "nbformat_minor": 5
}
